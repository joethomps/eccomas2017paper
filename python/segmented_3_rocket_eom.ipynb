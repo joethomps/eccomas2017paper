{
 "cells": [
  {
   "cell_type": "code",
   "execution_count": 45,
   "metadata": {
    "collapsed": false
   },
   "outputs": [],
   "source": [
    "from sympy import Eq, symbols, Matrix, solve, expand, simplify, powsimp\n",
    "from sympy.matrices import *\n",
    "from sympy.solvers.solveset import linear_eq_to_matrix\n",
    "from sympy.physics.mechanics import *\n",
    "from sympy.physics.vector import vlatex\n",
    "\n",
    "mechanics_printing()\n",
    "\n",
    "symbol_names = 'theta phi_1 phi_2 v_x v_z omega_0 omega_1 omega_2'\n",
    "q3, q4, q5, u1, u2, u3, u4, u5 = dynamicsymbols(symbol_names)\n",
    "q3d, q4d, q5d, u1d, u2d, u3d, u4d, u5d = dynamicsymbols(symbol_names, 1)\n",
    "\n",
    "M, f1, f2, f3, F, d = dynamicsymbols('M, f_1, f_2, f_3, F, d')\n",
    "ax, az, T = symbols('a_x a_z T')\n",
    "\n",
    "h, I, m, k = symbols('h I m k')\n",
    "\n",
    "Ne = ReferenceFrame('N')\n",
    "A = Ne.orientnew('A', 'Space', [0, q3, 0], '321')\n",
    "A.set_ang_vel(Ne,u3*A.y)\n",
    "\n",
    "B = A.orientnew('B', 'Space', [0, q4, 0], '321')\n",
    "B.set_ang_vel(A,u4*A.y)\n",
    "\n",
    "C = B.orientnew('C', 'Space', [0, q5, 0], '321')\n",
    "C.set_ang_vel(B,u5*A.y)\n",
    "\n",
    "O = Point('O')\n",
    "O.set_vel(Ne, 0)\n",
    "\n",
    "CM1 = Point('CM1')\n",
    "CM1.set_vel(A,0)\n",
    "CM1.set_vel(Ne,u1*A.x + u2*A.z)\n",
    "#CM1.set_acc(N,ax*A.x + az*A.z)\n",
    "\n",
    "P1 = CM1.locatenew('P1', (h/2)*A.x)\n",
    "P1.v2pt_theory(CM1,Ne,A)\n",
    "\n",
    "CM2 = P1.locatenew('CM2', (h/2)*B.x)\n",
    "CM2.v2pt_theory(P1,Ne,B)\n",
    "\n",
    "P2 = CM2.locatenew('P2', (h/2)*B.x)\n",
    "P2.v2pt_theory(CM2,Ne,B)\n",
    "\n",
    "CM3 = P2.locatenew('CM3', (h/2)*C.x)\n",
    "CM3.v2pt_theory(P2,Ne,C)\n",
    "\n",
    "I1 = inertia(A, 0, I, 0)\n",
    "I2 = inertia(B, 0, I, 0)\n",
    "I3 = inertia(C, 0, I, 0)\n",
    "\n",
    "ForceList = [(CM1, F*A.x + f1*A.z), (CM2, f2*B.z), (CM3, f3*C.z), (A, (M+k*q4)*A.y), (B, -k*(q4-q5)*A.y), (C, -k*q5*A.y)]\n",
    "\n",
    "Body1 = RigidBody('Body1', CM1, A, m, (I1, CM1))\n",
    "Body2 = RigidBody('Body2', CM2, B, m, (I2, CM2))\n",
    "Body3 = RigidBody('Body3', CM3, C, m, (I3, CM3))\n",
    "\n",
    "BodyList = [Body1, Body2, Body3]\n",
    "\n",
    "KM = KanesMethod(Ne, q_ind=[q3, q4, q5], u_ind=[u1, u2, u3, u4, u5], kd_eqs = [q3d-u3, q4d-u4, q5d-u5])\n",
    "(fr, frstar) = KM.kanes_equations(ForceList, BodyList)\n",
    "EOM = fr+frstar"
   ]
  },
  {
   "cell_type": "code",
   "execution_count": 19,
   "metadata": {
    "collapsed": false
   },
   "outputs": [],
   "source": [
    "u1dsub=solve(ax-dot(CM1.acc(Ne),A.x),u1d)[0]\n",
    "u2dsub=solve(az-dot(CM1.acc(Ne),A.z),u2d)[0]\n",
    "EOMa = expand(EOM).subs([(u1d,u1dsub),(u2d,u2dsub)])\n",
    "\n",
    "axsub=solve(EOMa[0],ax)[0]\n",
    "azsub=solve(EOMa[1],az)[0]             \n",
    "EOMr = EOMa[2:5,0].subs([(ax,axsub),(az,azsub)])\n",
    "\n",
    "#EOMr = msubs(EOMr,{f: T*d, M: T*d*h/2 , F: T})\n",
    "EOMr = msubs(EOMr,{F: T})\n",
    "\n",
    "op_point = {q3: 0, u3: 0, q4: 0, u4: 0, q5: 0, u5: 0}\n",
    "EOMr.expand\n",
    "f_0 = [q3d,q4d,q5d]\n",
    "f_1 = [-u3,-u4,-u5]\n",
    "Mmat ,Bmat = linear_eq_to_matrix(expand(EOMr),[u3d,u4d,u5d])\n",
    "Mmat = -Mmat\n",
    "f_2 = Mmat*Matrix([[u3d],[u4d],[u5d]])\n",
    "f_3 = Bmat       \n",
    "f_4 = [0,0,0]\n",
    "f_c = []\n",
    "f_v = []\n",
    "f_a = []\n",
    "q = [q3,q4,q5]\n",
    "u = [u3,u4,u5]\n",
    "q_i= [q3,q4,q5]\n",
    "u_i= [u3,u4,u5]\n",
    "r= [M,f1,f2,f3]\n",
    "\n",
    "L = Linearizer(f_0, f_1, f_2, f_3, f_4, f_c, f_v, f_a, q, u, q_i=q_i, u_i=u_i, r=r)\n",
    "\n",
    "#L = KM.to_linearizer()\n",
    "Mm, Am, Bm = L.linearize(op_point=op_point, simplify=True)\n",
    "EOMlin = Mm*Matrix((L._qd,L._ud)) - Am*Matrix((L.q,L.u)) - Bm*L.r"
   ]
  },
  {
   "cell_type": "code",
   "execution_count": 48,
   "metadata": {
    "collapsed": false
   },
   "outputs": [],
   "source": [
    "fi = open('eqM.tex','w')\n",
    "fi.write('M = ')\n",
    "fi.write(vlatex(Mm[3:6,3:6]))\n",
    "fi.write(',\\quad A = ')\n",
    "fi.write(vlatex(Am[3:6,0:3]))\n",
    "fi.write(',\\quad B = ')\n",
    "fi.write(vlatex(Bm[3:6,:]))\n",
    "fi.close()"
   ]
  },
  {
   "cell_type": "code",
   "execution_count": 40,
   "metadata": {
    "collapsed": false
   },
   "outputs": [
    {
     "data": {
      "image/png": "[encoded data removed]",
      "text/latex": [
       "$$\\left[\\begin{matrix}3 I + 2 h^{2} m & 2 I + \\frac{3 m}{2} h^{2} & I + \\frac{h^{2} m}{2}\\\\2 I + \\frac{3 m}{2} h^{2} & 2 I + \\frac{7 m}{6} h^{2} & I + \\frac{5 m}{12} h^{2}\\\\I + \\frac{h^{2} m}{2} & I + \\frac{5 m}{12} h^{2} & I + \\frac{h^{2} m}{6}\\end{matrix}\\right]$$"
      ],
      "text/plain": [
       "⎡                       2          2   ⎤\n",
       "⎢         2          3⋅h ⋅m       h ⋅m ⎥\n",
       "⎢3⋅I + 2⋅h ⋅m  2⋅I + ──────   I + ──── ⎥\n",
       "⎢                      2           2   ⎥\n",
       "⎢                                      ⎥\n",
       "⎢         2             2           2  ⎥\n",
       "⎢      3⋅h ⋅m        7⋅h ⋅m      5⋅h ⋅m⎥\n",
       "⎢2⋅I + ──────  2⋅I + ──────  I + ──────⎥\n",
       "⎢        2             6           12  ⎥\n",
       "⎢                                      ⎥\n",
       "⎢       2              2           2   ⎥\n",
       "⎢      h ⋅m         5⋅h ⋅m        h ⋅m ⎥\n",
       "⎢  I + ────     I + ──────    I + ──── ⎥\n",
       "⎣       2             12           6   ⎦"
      ]
     },
     "execution_count": 40,
     "metadata": {},
     "output_type": "execute_result"
    }
   ],
   "source": [
    "Mm[3:6,3:6]"
   ]
  },
  {
   "cell_type": "code",
   "execution_count": 15,
   "metadata": {
    "collapsed": false
   },
   "outputs": [
    {
     "data": {
      "image/png": "[encoded data removed]",
      "text/latex": [
       "$$\\left[\\begin{matrix}0 & 0 & 0 & 1 & 0 & 0\\\\0 & 0 & 0 & 0 & 1 & 0\\\\0 & 0 & 0 & 0 & 0 & 1\\\\0 & \\frac{2 T}{3} h & \\frac{T h}{6} & 0 & 0 & 0\\\\0 & \\frac{2 T}{3} h - k & \\frac{T h}{6} & 0 & 0 & 0\\\\0 & \\frac{T h}{6} & \\frac{T h}{6} - k & 0 & 0 & 0\\end{matrix}\\right]$$"
      ],
      "text/plain": [
       "⎡0      0         0     1  0  0⎤\n",
       "⎢                              ⎥\n",
       "⎢0      0         0     0  1  0⎥\n",
       "⎢                              ⎥\n",
       "⎢0      0         0     0  0  1⎥\n",
       "⎢                              ⎥\n",
       "⎢     2⋅T⋅h      T⋅h           ⎥\n",
       "⎢0    ─────      ───    0  0  0⎥\n",
       "⎢       3         6            ⎥\n",
       "⎢                              ⎥\n",
       "⎢   2⋅T⋅h        T⋅h           ⎥\n",
       "⎢0  ───── - k    ───    0  0  0⎥\n",
       "⎢     3           6            ⎥\n",
       "⎢                              ⎥\n",
       "⎢      T⋅h     T⋅h             ⎥\n",
       "⎢0     ───     ─── - k  0  0  0⎥\n",
       "⎣       6       6              ⎦"
      ]
     },
     "execution_count": 15,
     "metadata": {},
     "output_type": "execute_result"
    }
   ],
   "source": [
    "Am"
   ]
  },
  {
   "cell_type": "code",
   "execution_count": 16,
   "metadata": {
    "collapsed": false
   },
   "outputs": [
    {
     "data": {
      "image/png": "[encoded data removed]",
      "text/latex": [
       "$$\\left[\\begin{matrix}0 & 0 & 0 & 0\\\\0 & 0 & 0 & 0\\\\0 & 0 & 0 & 0\\\\1 & h & 0 & - h\\\\0 & \\frac{2 h}{3} & \\frac{h}{6} & - \\frac{5 h}{6}\\\\0 & \\frac{h}{6} & \\frac{h}{6} & - \\frac{h}{3}\\end{matrix}\\right]$$"
      ],
      "text/plain": [
       "⎡0   0   0    0  ⎤\n",
       "⎢                ⎥\n",
       "⎢0   0   0    0  ⎥\n",
       "⎢                ⎥\n",
       "⎢0   0   0    0  ⎥\n",
       "⎢                ⎥\n",
       "⎢1   h   0   -h  ⎥\n",
       "⎢                ⎥\n",
       "⎢   2⋅h  h  -5⋅h ⎥\n",
       "⎢0  ───  ─  ─────⎥\n",
       "⎢    3   6    6  ⎥\n",
       "⎢                ⎥\n",
       "⎢    h   h   -h  ⎥\n",
       "⎢0   ─   ─   ─── ⎥\n",
       "⎣    6   6    3  ⎦"
      ]
     },
     "execution_count": 16,
     "metadata": {},
     "output_type": "execute_result"
    }
   ],
   "source": [
    "Bm"
   ]
  },
  {
   "cell_type": "code",
   "execution_count": null,
   "metadata": {
    "collapsed": true
   },
   "outputs": [],
   "source": []
  }
 ],
 "metadata": {
  "anaconda-cloud": {},
  "kernelspec": {
   "display_name": "Python [conda root]",
   "language": "python",
   "name": "conda-root-py"
  },
  "language_info": {
   "codemirror_mode": {
    "name": "ipython",
    "version": 3
   },
   "file_extension": ".py",
   "mimetype": "text/x-python",
   "name": "python",
   "nbconvert_exporter": "python",
   "pygments_lexer": "ipython3",
   "version": "3.5.2"
  }
 },
 "nbformat": 4,
 "nbformat_minor": 0
}
