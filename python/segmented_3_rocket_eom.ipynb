{
 "cells": [
  {
   "cell_type": "code",
   "execution_count": 11,
   "metadata": {
    "collapsed": false
   },
   "outputs": [],
   "source": [
    "from sympy import Eq, symbols, Matrix, solve, expand, simplify, trigsimp, powsimp, N\n",
    "from sympy.matrices import *\n",
    "from sympy.solvers.solveset import linear_eq_to_matrix\n",
    "from sympy.physics.mechanics import *\n",
    "from sympy.physics.vector import vlatex\n",
    "\n",
    "mechanics_printing()\n",
    "\n",
    "symbol_names = 'theta phi_1 phi_2 v_x v_z omega_0 omega_1 omega_2'\n",
    "q3, q4, q5, u1, u2, u3, u4, u5 = dynamicsymbols(symbol_names)\n",
    "q3d, q4d, q5d, u1d, u2d, u3d, u4d, u5d = dynamicsymbols(symbol_names, 1)\n",
    "q3dd, q4dd, q5dd = dynamicsymbols('theta phi_1 phi_2', 2)\n",
    "\n",
    "M, f1, f2, f3, F, d, f = dynamicsymbols('M, f_1, f_2, f_3, F, delta, f')\n",
    "ax, az, T = symbols('a_x a_z T')\n",
    "\n",
    "h, I, m, k = symbols('h I m k')\n",
    "\n",
    "Ne = ReferenceFrame('Ne')\n",
    "A = Ne.orientnew('A', 'Space', [0, q3, 0], '321')\n",
    "A.set_ang_vel(Ne,u3*A.y)\n",
    "\n",
    "B = A.orientnew('B', 'Space', [0, q4, 0], '321')\n",
    "B.set_ang_vel(A,u4*A.y)\n",
    "\n",
    "C = B.orientnew('C', 'Space', [0, q5, 0], '321')\n",
    "C.set_ang_vel(B,u5*A.y)\n",
    "\n",
    "O = Point('O')\n",
    "O.set_vel(Ne, 0)\n",
    "\n",
    "CM1 = Point('CM1')\n",
    "CM1.set_vel(A,0)\n",
    "CM1.set_vel(Ne,u1*A.x + u2*A.z)\n",
    "\n",
    "P0 = CM1.locatenew('P0', -(h/2)*A.x)\n",
    "P0.v2pt_theory(CM1,Ne,A)\n",
    "\n",
    "P1 = CM1.locatenew('P1', (h/2)*A.x)\n",
    "P1.v2pt_theory(CM1,Ne,A)\n",
    "\n",
    "CM2 = P1.locatenew('CM2', (h/2)*B.x)\n",
    "CM2.v2pt_theory(P1,Ne,B)\n",
    "\n",
    "P2 = CM2.locatenew('P2', (h/2)*B.x)\n",
    "P2.v2pt_theory(CM2,Ne,B)\n",
    "\n",
    "CM3 = P2.locatenew('CM3', (h/2)*C.x)\n",
    "CM3.v2pt_theory(P2,Ne,C)\n",
    "\n",
    "P3 = CM3.locatenew('P3', (h/2)*C.x)\n",
    "P3.v2pt_theory(CM3,Ne,C)\n",
    "\n",
    "I1 = inertia(A, 0, I, 0)\n",
    "I2 = inertia(B, 0, I, 0)\n",
    "I3 = inertia(C, 0, I, 0)\n",
    "\n",
    "ForceList = [(P0, T*A.x + T*d*A.z), (P1, f1*A.z), (P2, f2*B.z), (P3, f3*C.z), (A, (M+k*q4)*A.y), (B, -k*(q4-q5)*A.y), (C, -k*q5*A.y)]\n",
    "\n",
    "Body1 = RigidBody('Body1', CM1, A, m, (I1, CM1))\n",
    "Body2 = RigidBody('Body2', CM2, B, m, (I2, CM2))\n",
    "Body3 = RigidBody('Body3', CM3, C, m, (I3, CM3))\n",
    "\n",
    "BodyList = [Body1, Body2, Body3]\n",
    "\n",
    "KM = KanesMethod(Ne, q_ind=[q3, q4, q5], u_ind=[u1, u2, u3, u4, u5], kd_eqs = [q3d-u3, q4d-u4, q5d-u5])\n",
    "(fr, frstar) = KM.kanes_equations(ForceList, BodyList)\n",
    "EOM = fr+frstar"
   ]
  },
  {
   "cell_type": "code",
   "execution_count": 2,
   "metadata": {
    "collapsed": false
   },
   "outputs": [],
   "source": [
    "u1dsub=solve(ax-dot(CM1.acc(Ne),A.x),u1d)[0]\n",
    "u2dsub=solve(az-dot(CM1.acc(Ne),A.z),u2d)[0]\n",
    "EOMa = expand(EOM).subs([(u1d,u1dsub),(u2d,u2dsub)])\n",
    "\n",
    "axsub=solve(EOMa[0],ax)[0]\n",
    "azsub=solve(EOMa[1],az)[0]             \n",
    "EOMr = EOMa[2:5,0].subs([(ax,axsub),(az,azsub)])\n",
    "\n",
    "#input_eq = [f1 - T*d, f2, f3-f, M -T*d*h/2]\n",
    "#Emat1, Emat2 = linear_eq_to_matrix(input_eq,[M, f1, f2, f3])\n",
    "#Emat, dum = linear_eq_to_matrix(Emat2,[f, d])\n",
    "#E = Emat1.inv()*Emat\n",
    "\n",
    "from sympy import acos\n",
    "y = dynamicsymbols('y')\n",
    "output = acos(dot(A.x,Ne.x))\n",
    "#output = acos(dot(B.x,Ne.x))\n",
    "#output = acos(dot(C.x,Ne.x))"
   ]
  },
  {
   "cell_type": "code",
   "execution_count": 3,
   "metadata": {
    "collapsed": true
   },
   "outputs": [],
   "source": [
    "op_point = {q3: 0, u3: 0, q4: 0, u4: 0, q5: 0, u5: 0}\n",
    "EOMr.expand\n",
    "f_0 = [q3d,q4d,q5d]\n",
    "f_1 = [-u3,-u4,-u5]\n",
    "Mmat ,Bmat = linear_eq_to_matrix(expand(EOMr),[u3d,u4d,u5d])\n",
    "Mmat = -Mmat\n",
    "f_2 = Mmat*Matrix([[u3d],[u4d],[u5d]])\n",
    "f_3 = Bmat       \n",
    "f_4 = [0,0,0]\n",
    "f_c = []\n",
    "f_v = []\n",
    "f_a = []\n",
    "q = [q3,q4,q5]\n",
    "u = [u3,u4,u5]\n",
    "q_i= [q3,q4,q5]\n",
    "u_i= [u3,u4,u5]\n",
    "r= [d,f1,f2,f3]\n",
    "\n",
    "L = Linearizer(f_0, f_1, f_2, f_3, f_4, f_c, f_v, f_a, q, u, q_i=q_i, u_i=u_i, r=r)\n",
    "\n",
    "#L = KM.to_linearizer()\n",
    "Mm, Am, Bm = L.linearize(op_point=op_point, simplify=True)\n",
    "EOMlin = Mm*Matrix([L._qd,L._ud]) - Am*Matrix([L.q,L.u]) - Bm*L.r"
   ]
  },
  {
   "cell_type": "code",
   "execution_count": 4,
   "metadata": {
    "collapsed": false
   },
   "outputs": [
    {
     "data": {
      "image/png": "[encoded data removed]",
      "text/latex": [
       "$$\\left[\\begin{matrix}3 I + 2 h^{2} m & 2 I + \\frac{3 m}{2} h^{2} & I + \\frac{h^{2} m}{2}\\\\2 I + \\frac{3 m}{2} h^{2} & 2 I + \\frac{7 m}{6} h^{2} & I + \\frac{5 m}{12} h^{2}\\\\I + \\frac{h^{2} m}{2} & I + \\frac{5 m}{12} h^{2} & I + \\frac{h^{2} m}{6}\\end{matrix}\\right]$$"
      ],
      "text/plain": [
       "⎡                       2          2   ⎤\n",
       "⎢         2          3⋅h ⋅m       h ⋅m ⎥\n",
       "⎢3⋅I + 2⋅h ⋅m  2⋅I + ──────   I + ──── ⎥\n",
       "⎢                      2           2   ⎥\n",
       "⎢                                      ⎥\n",
       "⎢         2             2           2  ⎥\n",
       "⎢      3⋅h ⋅m        7⋅h ⋅m      5⋅h ⋅m⎥\n",
       "⎢2⋅I + ──────  2⋅I + ──────  I + ──────⎥\n",
       "⎢        2             6           12  ⎥\n",
       "⎢                                      ⎥\n",
       "⎢       2              2           2   ⎥\n",
       "⎢      h ⋅m         5⋅h ⋅m        h ⋅m ⎥\n",
       "⎢  I + ────     I + ──────    I + ──── ⎥\n",
       "⎣       2             12           6   ⎦"
      ]
     },
     "execution_count": 4,
     "metadata": {},
     "output_type": "execute_result"
    }
   ],
   "source": [
    "Mm[3:6,3:6]"
   ]
  },
  {
   "cell_type": "code",
   "execution_count": 5,
   "metadata": {
    "collapsed": false
   },
   "outputs": [
    {
     "data": {
      "image/png": "[encoded data removed]",
      "text/latex": [
       "$$\\left[\\begin{matrix}0 & \\frac{2 T}{3} h & \\frac{T h}{6}\\\\0 & \\frac{2 T}{3} h - k & \\frac{T h}{6}\\\\0 & \\frac{T h}{6} & \\frac{T h}{6} - k\\end{matrix}\\right]$$"
      ],
      "text/plain": [
       "⎡     2⋅T⋅h      T⋅h  ⎤\n",
       "⎢0    ─────      ───  ⎥\n",
       "⎢       3         6   ⎥\n",
       "⎢                     ⎥\n",
       "⎢   2⋅T⋅h        T⋅h  ⎥\n",
       "⎢0  ───── - k    ───  ⎥\n",
       "⎢     3           6   ⎥\n",
       "⎢                     ⎥\n",
       "⎢      T⋅h     T⋅h    ⎥\n",
       "⎢0     ───     ─── - k⎥\n",
       "⎣       6       6     ⎦"
      ]
     },
     "execution_count": 5,
     "metadata": {},
     "output_type": "execute_result"
    }
   ],
   "source": [
    "Am[3:6,0:3]"
   ]
  },
  {
   "cell_type": "code",
   "execution_count": 6,
   "metadata": {
    "collapsed": false
   },
   "outputs": [
    {
     "data": {
      "image/png": "[encoded data removed]",
      "text/latex": [
       "$$\\left[\\begin{matrix}\\frac{3 T}{2} h & \\frac{h}{2} & - \\frac{h}{2} & - \\frac{3 h}{2}\\\\\\frac{2 T}{3} h & \\frac{2 h}{3} & - \\frac{h}{3} & - \\frac{4 h}{3}\\\\\\frac{T h}{6} & \\frac{h}{6} & \\frac{h}{6} & - \\frac{5 h}{6}\\end{matrix}\\right]$$"
      ],
      "text/plain": [
       "⎡3⋅T⋅h   h   -h   -3⋅h ⎤\n",
       "⎢─────   ─   ───  ─────⎥\n",
       "⎢  2     2    2     2  ⎥\n",
       "⎢                      ⎥\n",
       "⎢2⋅T⋅h  2⋅h  -h   -4⋅h ⎥\n",
       "⎢─────  ───  ───  ─────⎥\n",
       "⎢  3     3    3     3  ⎥\n",
       "⎢                      ⎥\n",
       "⎢ T⋅h    h    h   -5⋅h ⎥\n",
       "⎢ ───    ─    ─   ─────⎥\n",
       "⎣  6     6    6     6  ⎦"
      ]
     },
     "execution_count": 6,
     "metadata": {},
     "output_type": "execute_result"
    }
   ],
   "source": [
    "Bm[3:6,:]"
   ]
  },
  {
   "cell_type": "code",
   "execution_count": 60,
   "metadata": {
    "collapsed": false
   },
   "outputs": [],
   "source": [
    "fi = open('eq1.tex','w')\n",
    "fi.write(vlatex(Mm[3:6,3:6]))\n",
    "fi.write(vlatex(Matrix([[q3dd],[q4dd],[q5dd]])))\n",
    "fi.write(' + ')\n",
    "fi.write(vlatex(simplify(-Am[3:6,0:3])))\n",
    "fi.write(vlatex(Matrix([[q3],[q4],[q5]])))\n",
    "fi.write('\\\\\\\\ = ')\n",
    "fi.write(vlatex(Bm[3:6,:]))\n",
    "fi.write(vlatex(Matrix([d,f1,f2,f3])))\n",
    "fi.close()\n",
    "\n",
    "a1, a2, a3 = dynamicsymbols('alpha1 alpha2 alpha3')\n",
    "fi = open('eq2.tex','w')\n",
    "fi.write(vlatex(Matrix([a1,a2,a3])))\n",
    "fi.write(' = ')\n",
    "fi.write(vlatex(Matrix([[1,0,0],[1,1,0],[1,1,1]])))\n",
    "fi.write(vlatex(Matrix([[q3],[q4],[q5]])))\n",
    "fi.close()"
   ]
  },
  {
   "cell_type": "code",
   "execution_count": 8,
   "metadata": {
    "collapsed": false
   },
   "outputs": [
    {
     "data": {
      "image/png": "[encoded data removed]",
      "text/latex": [
       "$$\\theta$$"
      ],
      "text/plain": [
       "θ"
      ]
     },
     "execution_count": 8,
     "metadata": {},
     "output_type": "execute_result"
    }
   ],
   "source": [
    "from sympy import trigsimp\n",
    "simplify(trigsimp(output))"
   ]
  },
  {
   "cell_type": "code",
   "execution_count": 9,
   "metadata": {
    "collapsed": false
   },
   "outputs": [],
   "source": [
    "param_num = {I:5e5,T:2.3e6,h:10,k:6e7,m:0.5e5}\n",
    "Mmnum = Mm[3:6,3:6].subs(param_num)\n",
    "Amnum = simplify(-Am[3:6,0:3]).subs(param_num)\n",
    "Bmnum = Bm[3:6,:].subs(param_num)"
   ]
  },
  {
   "cell_type": "code",
   "execution_count": 23,
   "metadata": {
    "collapsed": true
   },
   "outputs": [],
   "source": [
    "fi = open('eqnum.tex','w')\n",
    "fi.write(vlatex(N(Mmnum,3)))\n",
    "fi.write(vlatex(Matrix([[q3dd],[q4dd],[q5dd]])))\n",
    "fi.write(' + ')\n",
    "fi.write(vlatex(N(Amnum,3)))\n",
    "fi.write(vlatex(Matrix([[q3],[q4],[q5]])))\n",
    "fi.write('\\\\\\\\ = ')\n",
    "fi.write(vlatex(N(Bmnum,3)))\n",
    "fi.write(vlatex(Matrix([d,f1,f2,f3])))\n",
    "fi.close()"
   ]
  },
  {
   "cell_type": "code",
   "execution_count": 64,
   "metadata": {
    "collapsed": false
   },
   "outputs": [
    {
     "data": {
      "image/png": "[encoded data removed]",
      "text/latex": [
       "$$\\left[\\begin{matrix}17.8342245989304 & -4.75935828877004 \\cdot 10^{-6} & 1.1229946524064 \\cdot 10^{-6} & -4.81283422459878 \\cdot 10^{-7}\\\\-21.8930481283422 & 8.87700534759355 \\cdot 10^{-6} & -5.24064171122992 \\cdot 10^{-6} & 2.24598930481281 \\cdot 10^{-6}\\\\5.16577540106946 & -5.24064171122992 \\cdot 10^{-6} & 8.87700534759356 \\cdot 10^{-6} & -9.51871657754009 \\cdot 10^{-6}\\end{matrix}\\right]$$"
      ],
      "text/plain": [
       "⎡17.8342245989304   -4.75935828877004e-6   1.1229946524064e-6   -4.81283422459\n",
       "⎢                                                                             \n",
       "⎢-21.8930481283422  8.87700534759355e-6   -5.24064171122992e-6  2.245989304812\n",
       "⎢                                                                             \n",
       "⎣5.16577540106946   -5.24064171122992e-6  8.87700534759356e-6   -9.51871657754\n",
       "\n",
       "878e-7⎤\n",
       "      ⎥\n",
       "81e-6 ⎥\n",
       "      ⎥\n",
       "009e-6⎦"
      ]
     },
     "execution_count": 64,
     "metadata": {},
     "output_type": "execute_result"
    }
   ],
   "source": [
    "MA = Mmnum.inv()*Amnum\n",
    "MB = Mmnum.inv()*Bmnum\n",
    "MA\n",
    "MB"
   ]
  },
  {
   "cell_type": "code",
   "execution_count": 156,
   "metadata": {
    "collapsed": false
   },
   "outputs": [],
   "source": [
    "evals = diag(*list(MA.eigenvals()))\n",
    "U, Lam = MA.diagonalize()\n",
    "V = U[:,0]/(U[:,0]).norm()\n",
    "for i in range(1,3):\n",
    "    V = V.row_join(U[:,i]/(U[:,i]).norm())"
   ]
  },
  {
   "cell_type": "code",
   "execution_count": 157,
   "metadata": {
    "collapsed": false
   },
   "outputs": [
    {
     "data": {
      "image/png": "[encoded data removed]",
      "text/latex": [
       "$$\\left[\\begin{matrix}0 & 0 & 0\\\\0 & 61.3 & 0\\\\0 & 0 & 309.0\\end{matrix}\\right]$$"
      ],
      "text/plain": [
       "⎡0   0      0  ⎤\n",
       "⎢              ⎥\n",
       "⎢0  61.3    0  ⎥\n",
       "⎢              ⎥\n",
       "⎣0   0    309.0⎦"
      ]
     },
     "execution_count": 157,
     "metadata": {},
     "output_type": "execute_result"
    }
   ],
   "source": [
    "N(V,3)\n",
    "N(Lam,3)"
   ]
  },
  {
   "cell_type": "code",
   "execution_count": 160,
   "metadata": {
    "collapsed": false
   },
   "outputs": [],
   "source": [
    "x1, x2, x3 = dynamicsymbols('q1 q2 q3')\n",
    "x1dd, x2dd, x3dd = dynamicsymbols('q1 q2 q3',2)\n",
    "\n",
    "fi = open('eqdiag1.tex','w')\n",
    "fi.write(vlatex(Matrix([x1dd,x2dd,x3dd])))\n",
    "fi.write(' + ')\n",
    "fi.write(vlatex(N(Lam,3)))\n",
    "fi.write(vlatex(Matrix([x1,x2,x3])))\n",
    "fi.write(' = ')\n",
    "fi.write(vlatex(N(V.inv()*MB,3)))\n",
    "fi.write(vlatex(Matrix([d,f1,f2,f3])))\n",
    "fi.close()\n",
    "\n",
    "fi = open('eqdiag2.tex','w')\n",
    "fi.write(vlatex(Matrix([a1,a2,a3])))\n",
    "fi.write(' = ')\n",
    "fi.write(vlatex(N(Matrix([[1,0,0],[1,1,0],[1,1,1]])*V,3)))\n",
    "fi.write(vlatex(Matrix([x1,x2,x3])))\n",
    "fi.close()\n",
    "\n",
    "fi = open('eqtrans.tex','w')\n",
    "fi.write(vlatex(Matrix([x1,x2,x3])))\n",
    "fi.write(' = ')\n",
    "fi.write(vlatex(N(V.inv(),3)))\n",
    "fi.write(vlatex(Matrix([[q3],[q4],[q5]])))\n",
    "fi.close()"
   ]
  },
  {
   "cell_type": "code",
   "execution_count": 159,
   "metadata": {
    "collapsed": false
   },
   "outputs": [
    {
     "data": {
      "image/png": "[encoded data removed]",
      "text/latex": [
       "$$\\left[\\begin{matrix}1.0 & -0.592254006497771 & 0.322304746955924\\\\0 & 0.584113875466158 & -0.66937271011361\\\\0 & 0.555019073794085 & 0.66937271011361\\end{matrix}\\right]$$"
      ],
      "text/plain": [
       "⎡1.0  -0.592254006497771  0.322304746955924⎤\n",
       "⎢                                          ⎥\n",
       "⎢ 0   0.584113875466158   -0.66937271011361⎥\n",
       "⎢                                          ⎥\n",
       "⎣ 0   0.555019073794085   0.66937271011361 ⎦"
      ]
     },
     "execution_count": 159,
     "metadata": {},
     "output_type": "execute_result"
    }
   ],
   "source": [
    "V"
   ]
  },
  {
   "cell_type": "code",
   "execution_count": null,
   "metadata": {
    "collapsed": true
   },
   "outputs": [],
   "source": []
  }
 ],
 "metadata": {
  "anaconda-cloud": {},
  "kernelspec": {
   "display_name": "Python [conda root]",
   "language": "python",
   "name": "conda-root-py"
  },
  "language_info": {
   "codemirror_mode": {
    "name": "ipython",
    "version": 3
   },
   "file_extension": ".py",
   "mimetype": "text/x-python",
   "name": "python",
   "nbconvert_exporter": "python",
   "pygments_lexer": "ipython3",
   "version": "3.5.2"
  }
 },
 "nbformat": 4,
 "nbformat_minor": 0
}
