{
 "cells": [
  {
   "cell_type": "code",
   "execution_count": 54,
   "metadata": {
    "collapsed": false
   },
   "outputs": [],
   "source": [
    "from sympy import Eq, symbols, Matrix, solve, expand, simplify, trigsimp, powsimp\n",
    "from sympy.matrices import *\n",
    "from sympy.solvers.solveset import linear_eq_to_matrix\n",
    "from sympy.physics.mechanics import *\n",
    "from sympy.physics.vector import vlatex\n",
    "\n",
    "mechanics_printing()\n",
    "\n",
    "symbol_names = 'theta phi_1 phi_2 v_x v_z omega_0 omega_1 omega_2'\n",
    "q3, q4, q5, u1, u2, u3, u4, u5 = dynamicsymbols(symbol_names)\n",
    "q3d, q4d, q5d, u1d, u2d, u3d, u4d, u5d = dynamicsymbols(symbol_names, 1)\n",
    "q3dd, q4dd, q5dd = dynamicsymbols('theta phi_1 phi_2', 2)\n",
    "\n",
    "M, f1, f2, f3, F, d, f = dynamicsymbols('M, f_1, f_2, f_3, F, delta, f')\n",
    "ax, az, T = symbols('a_x a_z T')\n",
    "\n",
    "h, I, m, k = symbols('h I m k')\n",
    "\n",
    "N = ReferenceFrame('N')\n",
    "A = N.orientnew('A', 'Space', [0, q3, 0], '321')\n",
    "A.set_ang_vel(N,u3*A.y)\n",
    "\n",
    "B = A.orientnew('B', 'Space', [0, q4, 0], '321')\n",
    "B.set_ang_vel(A,u4*A.y)\n",
    "\n",
    "C = B.orientnew('C', 'Space', [0, q5, 0], '321')\n",
    "C.set_ang_vel(B,u5*A.y)\n",
    "\n",
    "O = Point('O')\n",
    "O.set_vel(N, 0)\n",
    "\n",
    "CM1 = Point('CM1')\n",
    "CM1.set_vel(A,0)\n",
    "CM1.set_vel(N,u1*A.x + u2*A.z)\n",
    "\n",
    "P0 = CM1.locatenew('P0', -(h/2)*A.x)\n",
    "P0.v2pt_theory(CM1,N,A)\n",
    "\n",
    "P1 = CM1.locatenew('P1', (h/2)*A.x)\n",
    "P1.v2pt_theory(CM1,N,A)\n",
    "\n",
    "CM2 = P1.locatenew('CM2', (h/2)*B.x)\n",
    "CM2.v2pt_theory(P1,N,B)\n",
    "\n",
    "P2 = CM2.locatenew('P2', (h/2)*B.x)\n",
    "P2.v2pt_theory(CM2,N,B)\n",
    "\n",
    "CM3 = P2.locatenew('CM3', (h/2)*C.x)\n",
    "CM3.v2pt_theory(P2,N,C)\n",
    "\n",
    "P3 = CM3.locatenew('P3', (h/2)*C.x)\n",
    "P3.v2pt_theory(CM3,N,C)\n",
    "\n",
    "I1 = inertia(A, 0, I, 0)\n",
    "I2 = inertia(B, 0, I, 0)\n",
    "I3 = inertia(C, 0, I, 0)\n",
    "\n",
    "ForceList = [(P0, T*A.x + T*d*A.z), (P1, f1*A.z), (P2, f2*B.z), (P3, f3*C.z), (A, (M+k*q4)*A.y), (B, -k*(q4-q5)*A.y), (C, -k*q5*A.y)]\n",
    "\n",
    "Body1 = RigidBody('Body1', CM1, A, m, (I1, CM1))\n",
    "Body2 = RigidBody('Body2', CM2, B, m, (I2, CM2))\n",
    "Body3 = RigidBody('Body3', CM3, C, m, (I3, CM3))\n",
    "\n",
    "BodyList = [Body1, Body2, Body3]\n",
    "\n",
    "KM = KanesMethod(N, q_ind=[q3, q4, q5], u_ind=[u1, u2, u3, u4, u5], kd_eqs = [q3d-u3, q4d-u4, q5d-u5])\n",
    "(fr, frstar) = KM.kanes_equations(ForceList, BodyList)\n",
    "EOM = fr+frstar"
   ]
  },
  {
   "cell_type": "code",
   "execution_count": 55,
   "metadata": {
    "collapsed": false
   },
   "outputs": [],
   "source": [
    "u1dsub=solve(ax-dot(CM1.acc(N),A.x),u1d)[0]\n",
    "u2dsub=solve(az-dot(CM1.acc(N),A.z),u2d)[0]\n",
    "EOMa = expand(EOM).subs([(u1d,u1dsub),(u2d,u2dsub)])\n",
    "\n",
    "axsub=solve(EOMa[0],ax)[0]\n",
    "azsub=solve(EOMa[1],az)[0]             \n",
    "EOMr = EOMa[2:5,0].subs([(ax,axsub),(az,azsub)])\n",
    "\n",
    "#input_eq = [f1 - T*d, f2, f3-f, M -T*d*h/2]\n",
    "#Emat1, Emat2 = linear_eq_to_matrix(input_eq,[M, f1, f2, f3])\n",
    "#Emat, dum = linear_eq_to_matrix(Emat2,[f, d])\n",
    "#E = Emat1.inv()*Emat\n",
    "\n",
    "from sympy import acos\n",
    "y = dynamicsymbols('y')\n",
    "output = acos(dot(A.x,N.x))\n",
    "#output = acos(dot(B.x,N.x))\n",
    "#output = acos(dot(C.x,N.x))"
   ]
  },
  {
   "cell_type": "code",
   "execution_count": 56,
   "metadata": {
    "collapsed": true
   },
   "outputs": [],
   "source": [
    "op_point = {q3: 0, u3: 0, q4: 0, u4: 0, q5: 0, u5: 0}\n",
    "EOMr.expand\n",
    "f_0 = [q3d,q4d,q5d]\n",
    "f_1 = [-u3,-u4,-u5]\n",
    "Mmat ,Bmat = linear_eq_to_matrix(expand(EOMr),[u3d,u4d,u5d])\n",
    "Mmat = -Mmat\n",
    "f_2 = Mmat*Matrix([[u3d],[u4d],[u5d]])\n",
    "f_3 = Bmat       \n",
    "f_4 = [0,0,0]\n",
    "f_c = []\n",
    "f_v = []\n",
    "f_a = []\n",
    "q = [q3,q4,q5]\n",
    "u = [u3,u4,u5]\n",
    "q_i= [q3,q4,q5]\n",
    "u_i= [u3,u4,u5]\n",
    "r= [d,f1,f2,f3]\n",
    "\n",
    "L = Linearizer(f_0, f_1, f_2, f_3, f_4, f_c, f_v, f_a, q, u, q_i=q_i, u_i=u_i, r=r)\n",
    "\n",
    "#L = KM.to_linearizer()\n",
    "Mm, Am, Bm = L.linearize(op_point=op_point, simplify=True)\n",
    "EOMlin = Mm*Matrix([L._qd,L._ud]) - Am*Matrix([L.q,L.u]) - Bm*L.r"
   ]
  },
  {
   "cell_type": "code",
   "execution_count": 57,
   "metadata": {
    "collapsed": false
   },
   "outputs": [
    {
     "data": {
      "image/png": "[encoded data removed]",
      "text/latex": [
       "$$\\left[\\begin{matrix}3 I + 2 h^{2} m & 2 I + \\frac{3 m}{2} h^{2} & I + \\frac{h^{2} m}{2}\\\\2 I + \\frac{3 m}{2} h^{2} & 2 I + \\frac{7 m}{6} h^{2} & I + \\frac{5 m}{12} h^{2}\\\\I + \\frac{h^{2} m}{2} & I + \\frac{5 m}{12} h^{2} & I + \\frac{h^{2} m}{6}\\end{matrix}\\right]$$"
      ],
      "text/plain": [
       "⎡                       2          2   ⎤\n",
       "⎢         2          3⋅h ⋅m       h ⋅m ⎥\n",
       "⎢3⋅I + 2⋅h ⋅m  2⋅I + ──────   I + ──── ⎥\n",
       "⎢                      2           2   ⎥\n",
       "⎢                                      ⎥\n",
       "⎢         2             2           2  ⎥\n",
       "⎢      3⋅h ⋅m        7⋅h ⋅m      5⋅h ⋅m⎥\n",
       "⎢2⋅I + ──────  2⋅I + ──────  I + ──────⎥\n",
       "⎢        2             6           12  ⎥\n",
       "⎢                                      ⎥\n",
       "⎢       2              2           2   ⎥\n",
       "⎢      h ⋅m         5⋅h ⋅m        h ⋅m ⎥\n",
       "⎢  I + ────     I + ──────    I + ──── ⎥\n",
       "⎣       2             12           6   ⎦"
      ]
     },
     "execution_count": 57,
     "metadata": {},
     "output_type": "execute_result"
    }
   ],
   "source": [
    "Mm[3:6,3:6]"
   ]
  },
  {
   "cell_type": "code",
   "execution_count": 58,
   "metadata": {
    "collapsed": false
   },
   "outputs": [
    {
     "data": {
      "image/png": "[encoded data removed]",
      "text/latex": [
       "$$\\left[\\begin{matrix}0 & \\frac{2 T}{3} h & \\frac{T h}{6}\\\\0 & \\frac{2 T}{3} h - k & \\frac{T h}{6}\\\\0 & \\frac{T h}{6} & \\frac{T h}{6} - k\\end{matrix}\\right]$$"
      ],
      "text/plain": [
       "⎡     2⋅T⋅h      T⋅h  ⎤\n",
       "⎢0    ─────      ───  ⎥\n",
       "⎢       3         6   ⎥\n",
       "⎢                     ⎥\n",
       "⎢   2⋅T⋅h        T⋅h  ⎥\n",
       "⎢0  ───── - k    ───  ⎥\n",
       "⎢     3           6   ⎥\n",
       "⎢                     ⎥\n",
       "⎢      T⋅h     T⋅h    ⎥\n",
       "⎢0     ───     ─── - k⎥\n",
       "⎣       6       6     ⎦"
      ]
     },
     "execution_count": 58,
     "metadata": {},
     "output_type": "execute_result"
    }
   ],
   "source": [
    "Am[3:6,0:3]"
   ]
  },
  {
   "cell_type": "code",
   "execution_count": 59,
   "metadata": {
    "collapsed": false
   },
   "outputs": [
    {
     "data": {
      "image/png": "[encoded data removed]",
      "text/latex": [
       "$$\\left[\\begin{matrix}\\frac{3 T}{2} h & \\frac{h}{2} & - \\frac{h}{2} & - \\frac{3 h}{2}\\\\\\frac{2 T}{3} h & \\frac{2 h}{3} & - \\frac{h}{3} & - \\frac{4 h}{3}\\\\\\frac{T h}{6} & \\frac{h}{6} & \\frac{h}{6} & - \\frac{5 h}{6}\\end{matrix}\\right]$$"
      ],
      "text/plain": [
       "⎡3⋅T⋅h   h   -h   -3⋅h ⎤\n",
       "⎢─────   ─   ───  ─────⎥\n",
       "⎢  2     2    2     2  ⎥\n",
       "⎢                      ⎥\n",
       "⎢2⋅T⋅h  2⋅h  -h   -4⋅h ⎥\n",
       "⎢─────  ───  ───  ─────⎥\n",
       "⎢  3     3    3     3  ⎥\n",
       "⎢                      ⎥\n",
       "⎢ T⋅h    h    h   -5⋅h ⎥\n",
       "⎢ ───    ─    ─   ─────⎥\n",
       "⎣  6     6    6     6  ⎦"
      ]
     },
     "execution_count": 59,
     "metadata": {},
     "output_type": "execute_result"
    }
   ],
   "source": [
    "Bm[3:6,:]"
   ]
  },
  {
   "cell_type": "code",
   "execution_count": 65,
   "metadata": {
    "collapsed": false
   },
   "outputs": [],
   "source": [
    "fi = open('eqM.tex','w')\n",
    "fi.write(vlatex(Mm[3:6,3:6]))\n",
    "fi.write(vlatex(Matrix([[q3dd],[q4dd],[q5dd]])))\n",
    "fi.write(' + ')\n",
    "fi.write(vlatex(simplify(-Am[3:6,0:3])))\n",
    "fi.write(vlatex(Matrix([[q3],[q4],[q5]])))\n",
    "fi.write(' = ')\n",
    "fi.write(vlatex(Bm[3:6,:]))\n",
    "fi.write(vlatex(Matrix([d,f1,f2,f3])))\n",
    "fi.close()"
   ]
  },
  {
   "cell_type": "code",
   "execution_count": 61,
   "metadata": {
    "collapsed": false
   },
   "outputs": [
    {
     "data": {
      "image/png": "[encoded data removed]",
      "text/latex": [
       "$$\\theta$$"
      ],
      "text/plain": [
       "θ"
      ]
     },
     "execution_count": 61,
     "metadata": {},
     "output_type": "execute_result"
    }
   ],
   "source": [
    "from sympy import trigsimp\n",
    "simplify(trigsimp(output))"
   ]
  },
  {
   "cell_type": "code",
   "execution_count": 62,
   "metadata": {
    "collapsed": false
   },
   "outputs": [
    {
     "data": {
      "image/png": "[encoded data removed]",
      "text/latex": [
       "$$\\left[\\begin{matrix}- \\omega_{0} + \\dot{\\theta}\\\\- \\omega_{1} + \\dot{\\phi}_{1}\\\\- \\omega_{2} + \\dot{\\phi}_{2}\\\\- \\frac{3 T}{2} h \\delta - \\frac{2 T}{3} h \\phi_{1} - \\frac{T h}{6} \\phi_{2} - \\frac{h f_{1}}{2} + \\frac{h f_{2}}{2} + \\frac{3 h}{2} f_{3} + \\left(I + \\frac{h^{2} m}{2}\\right) \\dot{\\omega}_{2} + \\left(2 I + \\frac{3 m}{2} h^{2}\\right) \\dot{\\omega}_{1} + \\left(3 I + 2 h^{2} m\\right) \\dot{\\omega}_{0}\\\\- \\frac{2 T}{3} h \\delta - \\frac{T h}{6} \\phi_{2} - \\frac{2 h}{3} f_{1} + \\frac{h f_{2}}{3} + \\frac{4 h}{3} f_{3} + \\left(I + \\frac{5 m}{12} h^{2}\\right) \\dot{\\omega}_{2} + \\left(2 I + \\frac{7 m}{6} h^{2}\\right) \\dot{\\omega}_{1} + \\left(2 I + \\frac{3 m}{2} h^{2}\\right) \\dot{\\omega}_{0} - \\left(\\frac{2 T}{3} h - k\\right) \\phi_{1}\\\\- \\frac{T h}{6} \\delta - \\frac{T h}{6} \\phi_{1} - \\frac{h f_{1}}{6} - \\frac{h f_{2}}{6} + \\frac{5 h}{6} f_{3} + \\left(I + \\frac{h^{2} m}{6}\\right) \\dot{\\omega}_{2} + \\left(I + \\frac{5 m}{12} h^{2}\\right) \\dot{\\omega}_{1} + \\left(I + \\frac{h^{2} m}{2}\\right) \\dot{\\omega}_{0} - \\left(\\frac{T h}{6} - k\\right) \\phi_{2}\\end{matrix}\\right]$$"
      ],
      "text/plain": [
       "⎡                                                        -ω₀ + θ̇             \n",
       "⎢                                                                             \n",
       "⎢                                                        -ω₁ + φ₁̇            \n",
       "⎢                                                                             \n",
       "⎢                                                        -ω₂ + φ₂̇            \n",
       "⎢                                                                             \n",
       "⎢                                                            ⎛     2  ⎞       \n",
       "⎢       3⋅T⋅h⋅δ   2⋅T⋅h⋅φ₁   T⋅h⋅φ₂   h⋅f₁   h⋅f₂   3⋅h⋅f₃   ⎜    h ⋅m⎟       \n",
       "⎢     - ─────── - ──────── - ────── - ──── + ──── + ────── + ⎜I + ────⎟⋅ω₂̇ + \n",
       "⎢          2         3         6       2      2       2      ⎝     2  ⎠       \n",
       "⎢                                                                             \n",
       "⎢                                              ⎛       2  ⎞       ⎛         2 \n",
       "⎢  2⋅T⋅h⋅δ   T⋅h⋅φ₂   2⋅h⋅f₁   h⋅f₂   4⋅h⋅f₃   ⎜    5⋅h ⋅m⎟       ⎜      7⋅h ⋅\n",
       "⎢- ─────── - ────── - ────── + ──── + ────── + ⎜I + ──────⎟⋅ω₂̇ + ⎜2⋅I + ─────\n",
       "⎢     3        6        3       3       3      ⎝      12  ⎠       ⎝        6  \n",
       "⎢                                                                             \n",
       "⎢                                                 ⎛     2  ⎞       ⎛       2  \n",
       "⎢         T⋅h⋅δ   T⋅h⋅φ₁   h⋅f₁   h⋅f₂   5⋅h⋅f₃   ⎜    h ⋅m⎟       ⎜    5⋅h ⋅m\n",
       "⎢       - ───── - ────── - ──── - ──── + ────── + ⎜I + ────⎟⋅ω₂̇ + ⎜I + ──────\n",
       "⎣           6       6       6      6       6      ⎝     6  ⎠       ⎝      12  \n",
       "\n",
       "                                            ⎤\n",
       "                                            ⎥\n",
       "                                            ⎥\n",
       "                                            ⎥\n",
       "                                            ⎥\n",
       "                                            ⎥\n",
       "⎛         2  ⎞                              ⎥\n",
       "⎜      3⋅h ⋅m⎟       ⎛         2  ⎞         ⎥\n",
       "⎜2⋅I + ──────⎟⋅ω₁̇ + ⎝3⋅I + 2⋅h ⋅m⎠⋅ω₀̇     ⎥\n",
       "⎝        2   ⎠                              ⎥\n",
       "                                            ⎥\n",
       " ⎞       ⎛         2  ⎞                     ⎥\n",
       "m⎟       ⎜      3⋅h ⋅m⎟       ⎛2⋅T⋅h    ⎞   ⎥\n",
       "─⎟⋅ω₁̇ + ⎜2⋅I + ──────⎟⋅ω₀̇ - ⎜───── - k⎟⋅φ₁⎥\n",
       " ⎠       ⎝        2   ⎠       ⎝  3      ⎠   ⎥\n",
       "                                            ⎥\n",
       "⎞       ⎛     2  ⎞                          ⎥\n",
       "⎟       ⎜    h ⋅m⎟       ⎛T⋅h    ⎞          ⎥\n",
       "⎟⋅ω₁̇ + ⎜I + ────⎟⋅ω₀̇ - ⎜─── - k⎟⋅φ₂       ⎥\n",
       "⎠       ⎝     2  ⎠       ⎝ 6     ⎠          ⎦"
      ]
     },
     "execution_count": 62,
     "metadata": {},
     "output_type": "execute_result"
    }
   ],
   "source": [
    "EOMlin"
   ]
  },
  {
   "cell_type": "code",
   "execution_count": null,
   "metadata": {
    "collapsed": true
   },
   "outputs": [],
   "source": []
  }
 ],
 "metadata": {
  "anaconda-cloud": {},
  "kernelspec": {
   "display_name": "Python [conda root]",
   "language": "python",
   "name": "conda-root-py"
  },
  "language_info": {
   "codemirror_mode": {
    "name": "ipython",
    "version": 3
   },
   "file_extension": ".py",
   "mimetype": "text/x-python",
   "name": "python",
   "nbconvert_exporter": "python",
   "pygments_lexer": "ipython3",
   "version": "3.5.2"
  }
 },
 "nbformat": 4,
 "nbformat_minor": 0
}
